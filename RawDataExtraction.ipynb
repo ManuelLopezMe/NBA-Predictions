{
  "cells": [
    {
      "cell_type": "markdown",
      "source": [
        "# Create Raw Data Tables\n",
        "\n",
        "We'll extend our lakers analysis to all NBA teams by creating a data pipelines that'll ingest the raw data.\n",
        "\n",
        "In the next notebook, we'll do some cleaning up and refinement to prepare for our analyses.\n",
        "\n",
        "Instead of using Pandas, we'll be using Spark for data ingestion and transformations"
      ],
      "metadata": {
        "id": "iNfIaBNskAtf"
      }
    },
    {
      "cell_type": "markdown",
      "source": [
        "## Import Packages"
      ],
      "metadata": {
        "id": "2_B1rLT3ke8F"
      }
    },
    {
      "cell_type": "code",
      "source": [
        "!pip install nba_api"
      ],
      "metadata": {
        "id": "Y_C6OZsEhyPY",
        "colab": {
          "base_uri": "https://localhost:8080/"
        },
        "outputId": "7e289fd2-15ec-4567-8bfe-39d6b386dfd5"
      },
      "execution_count": 13,
      "outputs": [
        {
          "output_type": "stream",
          "name": "stdout",
          "text": [
            "Requirement already satisfied: nba_api in /usr/local/lib/python3.11/dist-packages (1.7.0)\n",
            "Requirement already satisfied: numpy<2.0.0,>=1.22.2 in /usr/local/lib/python3.11/dist-packages (from nba_api) (1.26.4)\n",
            "Requirement already satisfied: requests<3.0.0,>=2.32.3 in /usr/local/lib/python3.11/dist-packages (from nba_api) (2.32.3)\n",
            "Requirement already satisfied: charset-normalizer<4,>=2 in /usr/local/lib/python3.11/dist-packages (from requests<3.0.0,>=2.32.3->nba_api) (3.4.1)\n",
            "Requirement already satisfied: idna<4,>=2.5 in /usr/local/lib/python3.11/dist-packages (from requests<3.0.0,>=2.32.3->nba_api) (3.10)\n",
            "Requirement already satisfied: urllib3<3,>=1.21.1 in /usr/local/lib/python3.11/dist-packages (from requests<3.0.0,>=2.32.3->nba_api) (2.3.0)\n",
            "Requirement already satisfied: certifi>=2017.4.17 in /usr/local/lib/python3.11/dist-packages (from requests<3.0.0,>=2.32.3->nba_api) (2025.1.31)\n"
          ]
        }
      ]
    },
    {
      "cell_type": "code",
      "execution_count": 14,
      "metadata": {
        "id": "5K1PapKohtgX",
        "colab": {
          "base_uri": "https://localhost:8080/",
          "height": 217
        },
        "outputId": "00d834de-e867-4b9b-c3ca-6b8f0cd1435e"
      },
      "outputs": [
        {
          "output_type": "error",
          "ename": "ValueError",
          "evalue": "Cannot run multiple SparkContexts at once; existing SparkContext(app=pyspark-shell, master=local[*]) created by __init__ at <ipython-input-2-eb4443ae3a43>:15 ",
          "traceback": [
            "\u001b[0;31m---------------------------------------------------------------------------\u001b[0m",
            "\u001b[0;31mValueError\u001b[0m                                Traceback (most recent call last)",
            "\u001b[0;32m<ipython-input-14-eb4443ae3a43>\u001b[0m in \u001b[0;36m<cell line: 0>\u001b[0;34m()\u001b[0m\n\u001b[1;32m     13\u001b[0m \u001b[0;32mfrom\u001b[0m \u001b[0mgoogle\u001b[0m\u001b[0;34m.\u001b[0m\u001b[0mcolab\u001b[0m \u001b[0;32mimport\u001b[0m \u001b[0mdrive\u001b[0m\u001b[0;34m\u001b[0m\u001b[0;34m\u001b[0m\u001b[0m\n\u001b[1;32m     14\u001b[0m \u001b[0;34m\u001b[0m\u001b[0m\n\u001b[0;32m---> 15\u001b[0;31m \u001b[0msc\u001b[0m \u001b[0;34m=\u001b[0m \u001b[0mpyspark\u001b[0m\u001b[0;34m.\u001b[0m\u001b[0mSparkContext\u001b[0m\u001b[0;34m(\u001b[0m\u001b[0;34m)\u001b[0m\u001b[0;34m\u001b[0m\u001b[0;34m\u001b[0m\u001b[0m\n\u001b[0m",
            "\u001b[0;32m/usr/local/lib/python3.11/dist-packages/pyspark/context.py\u001b[0m in \u001b[0;36m__init__\u001b[0;34m(self, master, appName, sparkHome, pyFiles, environment, batchSize, serializer, conf, gateway, jsc, profiler_cls, udf_profiler_cls, memory_profiler_cls)\u001b[0m\n\u001b[1;32m    199\u001b[0m             )\n\u001b[1;32m    200\u001b[0m \u001b[0;34m\u001b[0m\u001b[0m\n\u001b[0;32m--> 201\u001b[0;31m         \u001b[0mSparkContext\u001b[0m\u001b[0;34m.\u001b[0m\u001b[0m_ensure_initialized\u001b[0m\u001b[0;34m(\u001b[0m\u001b[0mself\u001b[0m\u001b[0;34m,\u001b[0m \u001b[0mgateway\u001b[0m\u001b[0;34m=\u001b[0m\u001b[0mgateway\u001b[0m\u001b[0;34m,\u001b[0m \u001b[0mconf\u001b[0m\u001b[0;34m=\u001b[0m\u001b[0mconf\u001b[0m\u001b[0;34m)\u001b[0m\u001b[0;34m\u001b[0m\u001b[0;34m\u001b[0m\u001b[0m\n\u001b[0m\u001b[1;32m    202\u001b[0m         \u001b[0;32mtry\u001b[0m\u001b[0;34m:\u001b[0m\u001b[0;34m\u001b[0m\u001b[0;34m\u001b[0m\u001b[0m\n\u001b[1;32m    203\u001b[0m             self._do_init(\n",
            "\u001b[0;32m/usr/local/lib/python3.11/dist-packages/pyspark/context.py\u001b[0m in \u001b[0;36m_ensure_initialized\u001b[0;34m(cls, instance, gateway, conf)\u001b[0m\n\u001b[1;32m    447\u001b[0m \u001b[0;34m\u001b[0m\u001b[0m\n\u001b[1;32m    448\u001b[0m                     \u001b[0;31m# Raise error if there is already a running Spark context\u001b[0m\u001b[0;34m\u001b[0m\u001b[0;34m\u001b[0m\u001b[0m\n\u001b[0;32m--> 449\u001b[0;31m                     raise ValueError(\n\u001b[0m\u001b[1;32m    450\u001b[0m                         \u001b[0;34m\"Cannot run multiple SparkContexts at once; \"\u001b[0m\u001b[0;34m\u001b[0m\u001b[0;34m\u001b[0m\u001b[0m\n\u001b[1;32m    451\u001b[0m                         \u001b[0;34m\"existing SparkContext(app=%s, master=%s)\"\u001b[0m\u001b[0;34m\u001b[0m\u001b[0;34m\u001b[0m\u001b[0m\n",
            "\u001b[0;31mValueError\u001b[0m: Cannot run multiple SparkContexts at once; existing SparkContext(app=pyspark-shell, master=local[*]) created by __init__ at <ipython-input-2-eb4443ae3a43>:15 "
          ]
        }
      ],
      "source": [
        "import requests\n",
        "import pyspark\n",
        "from pyspark.sql import SparkSession\n",
        "from pyspark.sql.functions import *\n",
        "from pyspark.sql.types import *\n",
        "from pyspark import pandas as pd\n",
        "\n",
        "from bs4 import BeautifulSoup\n",
        "import numpy as np\n",
        "import nba_api\n",
        "from nba_api.stats.endpoints import playerindex\n",
        "from time import sleep\n",
        "\n",
        "from google.colab import drive\n",
        "\n",
        "sc = pyspark.SparkContext()"
      ]
    },
    {
      "cell_type": "code",
      "source": [
        "import json\n",
        "import os\n",
        "drive.mount('/content/drive')"
      ],
      "metadata": {
        "colab": {
          "base_uri": "https://localhost:8080/"
        },
        "id": "frAtrBsjWZ1X",
        "outputId": "6bd02c63-8d1f-4e6d-c398-bcdb825fce70"
      },
      "execution_count": 18,
      "outputs": [
        {
          "output_type": "stream",
          "name": "stdout",
          "text": [
            "Mounted at /content/drive\n"
          ]
        }
      ]
    },
    {
      "cell_type": "markdown",
      "source": [
        "## Extracting Data\n",
        "\n",
        "In this notebook, we'll create our raw data tables for the following:\n",
        "\n",
        "*   NBA Player Data\n",
        "*   Team Schedule Results by Season\n",
        "*   Team Box Score Results by Season\n",
        "\n",
        "\n",
        "\n"
      ],
      "metadata": {
        "id": "addEeybgaTjs"
      }
    },
    {
      "cell_type": "markdown",
      "source": [
        "Write JSON out for player data\n"
      ],
      "metadata": {
        "id": "y2qJ1bzT0xjc"
      }
    },
    {
      "cell_type": "code",
      "source": [
        "os.makedirs('/content/drive/MyDrive/NBA_Models', exist_ok=True)\n",
        "\n",
        "players_json=json.loads(playerindex.PlayerIndex().get_json())\n",
        "\n",
        "with open('/content/drive/MyDrive/NBA_Models/PlayerData.json', 'w') as f:\n",
        "    json.dump(players_json, f)"
      ],
      "metadata": {
        "id": "E-smXzjU3TU4"
      },
      "execution_count": 19,
      "outputs": []
    },
    {
      "cell_type": "code",
      "source": [
        "columns=players_json['resultSets'][0]['headers']\n",
        "columns"
      ],
      "metadata": {
        "colab": {
          "base_uri": "https://localhost:8080/"
        },
        "id": "grbiUUsC4qx4",
        "outputId": "19c425e0-4a0d-402b-c1ab-15b891af2b20"
      },
      "execution_count": 22,
      "outputs": [
        {
          "output_type": "execute_result",
          "data": {
            "text/plain": [
              "['PERSON_ID',\n",
              " 'PLAYER_LAST_NAME',\n",
              " 'PLAYER_FIRST_NAME',\n",
              " 'PLAYER_SLUG',\n",
              " 'TEAM_ID',\n",
              " 'TEAM_SLUG',\n",
              " 'IS_DEFUNCT',\n",
              " 'TEAM_CITY',\n",
              " 'TEAM_NAME',\n",
              " 'TEAM_ABBREVIATION',\n",
              " 'JERSEY_NUMBER',\n",
              " 'POSITION',\n",
              " 'HEIGHT',\n",
              " 'WEIGHT',\n",
              " 'COLLEGE',\n",
              " 'COUNTRY',\n",
              " 'DRAFT_YEAR',\n",
              " 'DRAFT_ROUND',\n",
              " 'DRAFT_NUMBER',\n",
              " 'ROSTER_STATUS',\n",
              " 'FROM_YEAR',\n",
              " 'TO_YEAR',\n",
              " 'PTS',\n",
              " 'REB',\n",
              " 'AST',\n",
              " 'STATS_TIMEFRAME']"
            ]
          },
          "metadata": {},
          "execution_count": 22
        }
      ]
    },
    {
      "cell_type": "markdown",
      "source": [
        "### Creating Spark Pipelines"
      ],
      "metadata": {
        "id": "cSIN_C_qsfI-"
      }
    },
    {
      "cell_type": "code",
      "source": [
        "spark = SparkSession.builder.appName(\"RawData\").getOrCreate()\n",
        "\n",
        "spark.read.json('/content/drive/MyDrive/NBA_Models/PlayerData.json').printSchema()"
      ],
      "metadata": {
        "colab": {
          "base_uri": "https://localhost:8080/"
        },
        "id": "hlc58BHRAN3h",
        "outputId": "28ad2ded-3612-4b2f-99a1-4caa958bb765"
      },
      "execution_count": 6,
      "outputs": [
        {
          "output_type": "stream",
          "name": "stdout",
          "text": [
            "root\n",
            " |-- parameters: struct (nullable = true)\n",
            " |    |-- Active: string (nullable = true)\n",
            " |    |-- AllStar: string (nullable = true)\n",
            " |    |-- College: string (nullable = true)\n",
            " |    |-- Country: string (nullable = true)\n",
            " |    |-- DraftPick: string (nullable = true)\n",
            " |    |-- DraftYear: string (nullable = true)\n",
            " |    |-- Height: string (nullable = true)\n",
            " |    |-- Historical: string (nullable = true)\n",
            " |    |-- LeagueID: string (nullable = true)\n",
            " |    |-- PlayerPosition: string (nullable = true)\n",
            " |    |-- Season: string (nullable = true)\n",
            " |    |-- TeamID: string (nullable = true)\n",
            " |    |-- Weight: string (nullable = true)\n",
            " |-- resource: string (nullable = true)\n",
            " |-- resultSets: array (nullable = true)\n",
            " |    |-- element: struct (containsNull = true)\n",
            " |    |    |-- headers: array (nullable = true)\n",
            " |    |    |    |-- element: string (containsNull = true)\n",
            " |    |    |-- name: string (nullable = true)\n",
            " |    |    |-- rowSet: array (nullable = true)\n",
            " |    |    |    |-- element: array (containsNull = true)\n",
            " |    |    |    |    |-- element: string (containsNull = true)\n",
            "\n"
          ]
        }
      ]
    },
    {
      "cell_type": "code",
      "source": [
        "def players():\n",
        "    df = spark.read \\\n",
        "    .format('json') \\\n",
        "    .options(header='true', inferSchema='true') \\\n",
        "    .load('/content/drive/MyDrive/NBA_Models/PlayerData.json')\n",
        "\n",
        "    # Explode resultSets to access nested data\n",
        "    df = df.select(explode(\"resultSets\").alias(\"result\"))\n",
        "\n",
        "    # Extract rowSet\n",
        "    df = df.select(col(\"result.rowSet\").alias(\"rowSet\"))\n",
        "\n",
        "    # Convert the nested structure into rows for each player\n",
        "    df = df.select(explode(\"rowSet\").alias(\"player_data\")) #column will be dropped later\n",
        "\n",
        "    # Create columns dynamically based on the assumed structure of \"player_data\"\n",
        "    for i, header in enumerate(columns):\n",
        "        df = df.withColumn(header, df.player_data.getItem(i))\n",
        "\n",
        "    # Create temporary view for SQL\n",
        "    df.drop('player_data').createOrReplaceTempView(\"PlayerData\")\n"
      ],
      "metadata": {
        "id": "vVOuB_M8se1g"
      },
      "execution_count": 20,
      "outputs": []
    },
    {
      "cell_type": "code",
      "source": [
        "players()\n",
        "spark.sql(\"SELECT * FROM PlayerData\").show()"
      ],
      "metadata": {
        "colab": {
          "base_uri": "https://localhost:8080/"
        },
        "id": "82h0ayKjEH8S",
        "outputId": "116c54d6-0302-49da-e962-4f45e6a71ca4"
      },
      "execution_count": 23,
      "outputs": [
        {
          "output_type": "stream",
          "name": "stdout",
          "text": [
            "+---------+----------------+-----------------+--------------------+----------+------------+----------+-----------+-------------+-----------------+-------------+--------+------+------+----------------+--------------+----------+-----------+------------+-------------+---------+-------+----+----+---+---------------+\n",
            "|PERSON_ID|PLAYER_LAST_NAME|PLAYER_FIRST_NAME|         PLAYER_SLUG|   TEAM_ID|   TEAM_SLUG|IS_DEFUNCT|  TEAM_CITY|    TEAM_NAME|TEAM_ABBREVIATION|JERSEY_NUMBER|POSITION|HEIGHT|WEIGHT|         COLLEGE|       COUNTRY|DRAFT_YEAR|DRAFT_ROUND|DRAFT_NUMBER|ROSTER_STATUS|FROM_YEAR|TO_YEAR| PTS| REB|AST|STATS_TIMEFRAME|\n",
            "+---------+----------------+-----------------+--------------------+----------+------------+----------+-----------+-------------+-----------------+-------------+--------+------+------+----------------+--------------+----------+-----------+------------+-------------+---------+-------+----+----+---+---------------+\n",
            "|  1630173|         Achiuwa|         Precious|    precious-achiuwa|1610612752|      knicks|         0|   New York|       Knicks|              NYK|            5|       F|   6-8|   243|         Memphis|       Nigeria|      2020|          1|          20|          1.0|     2020|   2024| 6.4| 5.8|1.1|         Season|\n",
            "|   203500|           Adams|           Steven|        steven-adams|1610612745|     rockets|         0|    Houston|      Rockets|              HOU|           12|       C|  6-11|   265|      Pittsburgh|   New Zealand|      2013|          1|          12|          1.0|     2013|   2024| 3.7| 5.4|1.1|         Season|\n",
            "|  1628389|         Adebayo|              Bam|         bam-adebayo|1610612748|        heat|         0|      Miami|         Heat|              MIA|           13|     C-F|   6-9|   255|        Kentucky|           USA|      2017|          1|          14|          1.0|     2017|   2024|16.4|10.0|4.5|         Season|\n",
            "|  1630534|          Agbaji|            Ochai|        ochai-agbaji|1610612761|     raptors|         0|    Toronto|      Raptors|              TOR|           30|       G|   6-5|   215|          Kansas|           USA|      2022|          1|          14|          1.0|     2022|   2024|10.3| 3.8|1.6|         Season|\n",
            "|  1630583|          Aldama|            Santi|        santi-aldama|1610612763|   grizzlies|         0|    Memphis|    Grizzlies|              MEM|            7|     F-C|   7-0|   215| Loyola-Maryland|         Spain|      2021|          1|          30|          1.0|     2021|   2024|12.8| 6.7|2.6|         Season|\n",
            "|  1641725|       Alexander|             Trey|      trey-alexander|1610612743|     nuggets|         0|     Denver|      Nuggets|              DEN|           23|       G|   6-4|   185|       Creighton|           USA|      NULL|       NULL|        NULL|          1.0|     2024|   2024| 0.8| 0.3|0.4|         Season|\n",
            "|  1629638|Alexander-Walker|          Nickeil|nickeil-alexander...|1610612750|timberwolves|         0|  Minnesota| Timberwolves|              MIN|            9|       G|   6-5|   205|   Virginia Tech|        Canada|      2019|          1|          17|          1.0|     2019|   2024| 8.8| 2.9|2.5|         Season|\n",
            "|  1628960|           Allen|          Grayson|       grayson-allen|1610612756|        suns|         0|    Phoenix|         Suns|              PHX|            8|       G|   6-4|   198|            Duke|           USA|      2018|          1|          21|          1.0|     2018|   2024|11.1| 3.5|2.0|         Season|\n",
            "|  1628386|           Allen|          Jarrett|       jarrett-allen|1610612739|   cavaliers|         0|  Cleveland|    Cavaliers|              CLE|           31|       C|   6-9|   243|           Texas|           USA|      2017|          1|          22|          1.0|     2017|   2024|13.6|10.3|2.0|         Season|\n",
            "|  1630631|        Alvarado|             Jose|       jose-alvarado|1610612740|    pelicans|         0|New Orleans|     Pelicans|              NOP|           15|       G|   6-0|   179|    Georgia Tech|           USA|      NULL|       NULL|        NULL|          1.0|     2021|   2024| 9.5| 2.0|4.3|         Season|\n",
            "|   203937|        Anderson|             Kyle|       kyle-anderson|1610612748|        heat|         0|      Miami|         Heat|              MIA|           20|     F-G|   6-9|   230|            UCLA|           USA|      2014|          1|          30|          1.0|     2014|   2024| 5.3| 3.1|2.3|         Season|\n",
            "|   203507|   Antetokounmpo|          Giannis|giannis-antetokou...|1610612749|       bucks|         0|  Milwaukee|        Bucks|              MIL|           34|       F|  6-11|   243|   Filathlitikos|        Greece|      2013|          1|          15|          1.0|     2013|   2024|31.8|12.2|5.9|         Season|\n",
            "|  1630175|         Anthony|             Cole|        cole-anthony|1610612753|       magic|         0|    Orlando|        Magic|              ORL|           50|       G|   6-2|   185|  North Carolina|           USA|      2020|          1|          15|          1.0|     2020|   2024| 9.2| 2.8|2.8|         Season|\n",
            "|  1628384|         Anunoby|               OG|          og-anunoby|1610612752|      knicks|         0|   New York|       Knicks|              NYK|            8|     F-G|   6-7|   240|         Indiana|United Kingdom|      2017|          1|          23|          1.0|     2017|   2024|16.4| 4.7|2.0|         Season|\n",
            "|  1630166|          Avdija|             Deni|         deni-avdija|1610612757|     blazers|         0|   Portland|Trail Blazers|              POR|            8|       F|   6-9|   240|Maccabi Tel Aviv|        Israel|      2020|          1|           9|          1.0|     2020|   2024|14.5| 6.4|3.4|         Season|\n",
            "|  1629028|           Ayton|          Deandre|       deandre-ayton|1610612757|     blazers|         0|   Portland|Trail Blazers|              POR|            2|       C|   7-0|   252|         Arizona|       Bahamas|      2018|          1|           1|          1.0|     2018|   2024|14.5|10.4|1.6|         Season|\n",
            "|  1628963|      Bagley III|           Marvin|   marvin-bagley-iii|1610612763|   grizzlies|         0|    Memphis|    Grizzlies|              MEM|           35|       F|  6-10|   235|            Duke|           USA|      2018|          1|           2|          1.0|     2018|   2024| 4.9| 2.9|0.4|         Season|\n",
            "|  1631116|     Baldwin Jr.|          Patrick|  patrick-baldwin-jr|         0|        NULL|         0|       NULL|         NULL|             NULL|         NULL|       F|   6-9|   220| Wisc.-Milwaukee|           USA|      2022|          1|          28|         NULL|     2022|   2024| 2.1| 1.0|0.1|         Season|\n",
            "|  1630163|            Ball|           LaMelo|         lamelo-ball|1610612766|     hornets|         0|  Charlotte|      Hornets|              CHA|            1|       G|   6-7|   180|       Illawarra|           USA|      2020|          1|           3|          1.0|     2020|   2024|28.0| 5.2|7.4|         Season|\n",
            "|  1628366|            Ball|            Lonzo|          lonzo-ball|1610612741|       bulls|         0|    Chicago|        Bulls|              CHI|            2|       G|   6-6|   190|            UCLA|           USA|      2017|          1|           2|          1.0|     2017|   2024| 7.2| 3.4|3.5|         Season|\n",
            "+---------+----------------+-----------------+--------------------+----------+------------+----------+-----------+-------------+-----------------+-------------+--------+------+------+----------------+--------------+----------+-----------+------------+-------------+---------+-------+----+----+---+---------------+\n",
            "only showing top 20 rows\n",
            "\n"
          ]
        }
      ]
    },
    {
      "cell_type": "code",
      "source": [
        "spark.sql(\"SELECT DISTINCT(TEAM_ABBREVIATION) FROM PlayerData\").show(50)"
      ],
      "metadata": {
        "colab": {
          "base_uri": "https://localhost:8080/"
        },
        "id": "yC2e2xMPQqz1",
        "outputId": "5c049fd9-fabc-45f4-8b14-f888a16717ff"
      },
      "execution_count": 24,
      "outputs": [
        {
          "output_type": "stream",
          "name": "stdout",
          "text": [
            "+-----------------+\n",
            "|TEAM_ABBREVIATION|\n",
            "+-----------------+\n",
            "|              GSW|\n",
            "|              DET|\n",
            "|              LAL|\n",
            "|              NYK|\n",
            "|              LAC|\n",
            "|              UTA|\n",
            "|              BOS|\n",
            "|              TOR|\n",
            "|              SAS|\n",
            "|              POR|\n",
            "|              DEN|\n",
            "|              DAL|\n",
            "|              CLE|\n",
            "|              MIA|\n",
            "|              OKC|\n",
            "|              PHX|\n",
            "|              MIN|\n",
            "|              MEM|\n",
            "|              SAC|\n",
            "|              ATL|\n",
            "|              PHI|\n",
            "|              WAS|\n",
            "|              NOP|\n",
            "|              IND|\n",
            "|              HOU|\n",
            "|              CHA|\n",
            "|              BKN|\n",
            "|              CHI|\n",
            "|              ORL|\n",
            "|              MIL|\n",
            "|             NULL|\n",
            "+-----------------+\n",
            "\n"
          ]
        }
      ]
    },
    {
      "cell_type": "markdown",
      "source": [
        "Since the website we're scraping data from uses different team abbreviations than the offical ones in their urls, we'll have to manually list them out"
      ],
      "metadata": {
        "id": "IR10O-dJkojT"
      }
    },
    {
      "cell_type": "markdown",
      "source": [
        "### Get team schedule results"
      ],
      "metadata": {
        "id": "PxgvZQKEQPj1"
      }
    },
    {
      "cell_type": "code",
      "source": [
        "teams = ['GSW',\n",
        "'DET',\n",
        "'LAL',\n",
        "'NYK',\n",
        "'LAC',\n",
        "'UTA',\n",
        "'BOS',\n",
        "'TOR',\n",
        "'SAS',\n",
        "'POR',\n",
        "'DEN',\n",
        "'DAL',\n",
        "'CLE',\n",
        "'MIA',\n",
        "'OKC',\n",
        "'PHO',\n",
        "'MIN',\n",
        "'MEM',\n",
        "'SAC',\n",
        "'ATL',\n",
        "'PHI',\n",
        "'WAS',\n",
        "'NOP',\n",
        "'IND',\n",
        "'HOU',\n",
        "'CHO',\n",
        "'BRK',\n",
        "'CHI',\n",
        "'ORL',\n",
        "'MIL']"
      ],
      "metadata": {
        "id": "2bmtHfJ-Tpnz"
      },
      "execution_count": 25,
      "outputs": []
    },
    {
      "cell_type": "markdown",
      "source": [
        "Get raw html table from the site we're extracting from"
      ],
      "metadata": {
        "id": "RCR-vJZ8BAX3"
      }
    },
    {
      "cell_type": "code",
      "source": [
        "base_url = \"https://www.basketball-reference.com\"\n",
        "\n",
        "def get_schedule(team_id, year):\n",
        "    \"\"\"\n",
        "    Scrapes basketball-reference.com for Lakers game data and returns a DataFrame.\n",
        "\n",
        "    Args:\n",
        "        team_id (str): The team abbreviation.\n",
        "        year (str): The season year.\n",
        "\n",
        "    Returns:\n",
        "        spark.DataFrame: A DataFrame containing game data.\n",
        "    \"\"\"\n",
        "    team_url = f\"{base_url}/teams/{team_id}/{year}_games.html\"\n",
        "\n",
        "    response = requests.get(team_url)\n",
        "    if response.status_code != 200:\n",
        "        raise Exception(f\"Failed to fetch the {team_id} season page!\")\n",
        "\n",
        "    team_soup = BeautifulSoup(response.content, 'html.parser')\n",
        "    box_score_table = team_soup.find('table', {'id': 'games'})\n",
        "\n",
        "    box_score_links = []\n",
        "    opps = []\n",
        "\n",
        "    for row in box_score_table.find_all('tr'):\n",
        "        box_score_cell = row.find('td', {'data-stat': 'box_score_text'})\n",
        "        if box_score_cell and box_score_cell.find('a'):\n",
        "            relative_link = box_score_cell.find('a')['href']\n",
        "            box_score_links.append(f\"{base_url}{relative_link}\")\n",
        "        opp_cell = row.find('td', {'data-stat': 'opp_name'})\n",
        "        if opp_cell and opp_cell.find('a'):\n",
        "            opps.append(opp_cell.find('a')['href'].split('/')[2])\n",
        "\n",
        "    all_game_stats = []\n",
        "    for url in box_score_links[:1]:\n",
        "      response = requests.get(url)\n",
        "      if response.status_code != 200:\n",
        "          raise Exception(\"Failed to fetch box score stats!\")\n",
        "      box_soup = BeautifulSoup(response.content, 'html.parser')\n",
        "\n",
        "      box_score_stats = box_soup.find('table', {'id': f'box-{team_id}-game-basic'})\n",
        "      home_team = box_soup.title.string.split(',')[0].split('vs')[0].strip()\n",
        "\n",
        "      box_score_df = pd.read_html(str(box_score_stats))[0].droplevel(0, axis=1)\n",
        "      box_score_df['Game'] = box_score_links.index(url) + 1\n",
        "      box_score_df['Home'] = 1 if home_team == 'Lakers' else 0\n",
        "      box_score_df['Opponet'] = opps[box_score_links.index(url)]\n",
        "\n",
        "      all_game_stats.append(box_score_df)\n",
        "      sleep(5)\n",
        "\n",
        "    df = pd.concat(all_game_stats, ignore_index=True)\n",
        "    df = df.to_spark()\n",
        "    return df\n",
        "\n",
        "get_schedule('LAL', '2025').show()"
      ],
      "metadata": {
        "id": "E6cgJ1cmTBNB"
      },
      "execution_count": null,
      "outputs": []
    },
    {
      "cell_type": "code",
      "source": [
        "base_url = \"https://www.basketball-reference.com\"\n",
        "## Function that'll return schedules by team and year\n",
        "def get_schedule(team_id, year):\n",
        "    \"\"\"\n",
        "    Scrapes basketball-reference.com for Lakers game data that saves the html table\n",
        "    to a Spark Temporary View and writes out the box score statistics for each game\n",
        "    as a spark csv table.\n",
        "\n",
        "    Args:\n",
        "        team_id (str): The team abbreviation.\n",
        "        year (str): The season year.\n",
        "    \"\"\"\n",
        "    all_game_stats = []\n",
        "\n",
        "    url = f\"{base_url}/teams/{team_id}/{year}_games.html\"\n",
        "    response = requests.get(url)\n",
        "    if response.status_code != 200:\n",
        "      raise Exception(f\"Failed to fetch the {team_id} season page!\")\n",
        "    sleep(5)\n",
        "\n",
        "    team_soup = BeautifulSoup(response.content, 'html.parser')\n",
        "    box_score_table = team_soup.find('table', {'id': 'games'})\n",
        "    box_score_links = []\n",
        "    opps = []\n",
        "\n",
        "    for row in box_score_table.find_all('tr'):\n",
        "        box_score_cell = row.find('td', {'data-stat': 'box_score_text'})\n",
        "        if box_score_cell and box_score_cell.find('a'):\n",
        "            relative_link = box_score_cell.find('a')['href']\n",
        "            box_score_links.append(f\"{base_url}{relative_link}\")\n",
        "        opp_cell = row.find('td', {'data-stat': 'opp_name'})\n",
        "        if opp_cell and opp_cell.find('a'):\n",
        "            opps.append(opp_cell.find('a')['href'].split('/')[2])\n",
        "\n",
        "    all_game_stats = []\n",
        "    for url in box_score_links:\n",
        "      response = requests.get(url)\n",
        "      if response.status_code != 200:\n",
        "          break\n",
        "      box_soup = BeautifulSoup(response.content, 'html.parser')\n",
        "\n",
        "      box_score_stats = box_soup.find('table', {'id': f'box-{team_id}-game-basic'})\n",
        "      home_team = box_soup.title.string.split(',')[0].split('vs')[0].strip()\n",
        "\n",
        "      box_score_df = pd.read_html(str(box_score_stats))[0].droplevel(0, axis=1)\n",
        "      box_score_df['Game'] = box_score_links.index(url) + 1\n",
        "      box_score_df['Home'] = 1 if home_team == 'Lakers' else 0\n",
        "      box_score_df['Opponet'] = opps[box_score_links.index(url)]\n",
        "\n",
        "      all_game_stats.append(box_score_df)\n",
        "      sleep(5)\n",
        "\n",
        "    box_score_df = pd.concat(all_game_stats, ignore_index=True)\n",
        "    box_score_df = box_score_df.to_spark()\n",
        "\n",
        "    ## Write out data\n",
        "    table_path = f'/content/drive/MyDrive/NBA_Models/Spark_DB/{team_id}_{year}_schedule_data.html'\n",
        "    with open(table_path, 'w') as f:\n",
        "      f.write(str(box_score_table))\n",
        "\n",
        "    spark.read.\\\n",
        "    format('text').\\\n",
        "    load(table_path).\\\n",
        "    createOrReplaceTempView(f'{team_id}_{year}_schedule_html')\n",
        "\n",
        "    df_path = f'/content/drive/MyDrive/NBA_Models/Spark_DB/{team_id}_{year}_box_data'\n",
        "    box_score_df.write.format('csv').mode('overwrite').\\\n",
        "    option('headers', 'true').option('delimiter', ',').csv(df_path)\n",
        "\n",
        "## test using Golden State Warriors for 2025 season\n",
        "get_schedule('GSW', 2025)"
      ],
      "metadata": {
        "id": "ZX5Fr6B2QPUV",
        "colab": {
          "base_uri": "https://localhost:8080/"
        },
        "collapsed": true,
        "outputId": "02919587-88c5-4e7d-8be4-12d7924fe9cb"
      },
      "execution_count": 28,
      "outputs": [
        {
          "output_type": "stream",
          "name": "stderr",
          "text": [
            "/usr/local/lib/python3.11/dist-packages/pyspark/pandas/namespace.py:1364: FutureWarning: Passing literal html to 'read_html' is deprecated and will be removed in a future version. To read from a literal string, wrap it in a 'StringIO' object.\n",
            "  pdfs = pd.read_html(\n",
            "/usr/local/lib/python3.11/dist-packages/pyspark/pandas/namespace.py:1364: FutureWarning: Passing literal html to 'read_html' is deprecated and will be removed in a future version. To read from a literal string, wrap it in a 'StringIO' object.\n",
            "  pdfs = pd.read_html(\n",
            "/usr/local/lib/python3.11/dist-packages/pyspark/pandas/namespace.py:1364: FutureWarning: Passing literal html to 'read_html' is deprecated and will be removed in a future version. To read from a literal string, wrap it in a 'StringIO' object.\n",
            "  pdfs = pd.read_html(\n",
            "/usr/local/lib/python3.11/dist-packages/pyspark/pandas/namespace.py:1364: FutureWarning: Passing literal html to 'read_html' is deprecated and will be removed in a future version. To read from a literal string, wrap it in a 'StringIO' object.\n",
            "  pdfs = pd.read_html(\n",
            "/usr/local/lib/python3.11/dist-packages/pyspark/pandas/namespace.py:1364: FutureWarning: Passing literal html to 'read_html' is deprecated and will be removed in a future version. To read from a literal string, wrap it in a 'StringIO' object.\n",
            "  pdfs = pd.read_html(\n",
            "/usr/local/lib/python3.11/dist-packages/pyspark/pandas/namespace.py:1364: FutureWarning: Passing literal html to 'read_html' is deprecated and will be removed in a future version. To read from a literal string, wrap it in a 'StringIO' object.\n",
            "  pdfs = pd.read_html(\n",
            "/usr/local/lib/python3.11/dist-packages/pyspark/pandas/namespace.py:1364: FutureWarning: Passing literal html to 'read_html' is deprecated and will be removed in a future version. To read from a literal string, wrap it in a 'StringIO' object.\n",
            "  pdfs = pd.read_html(\n",
            "/usr/local/lib/python3.11/dist-packages/pyspark/pandas/namespace.py:1364: FutureWarning: Passing literal html to 'read_html' is deprecated and will be removed in a future version. To read from a literal string, wrap it in a 'StringIO' object.\n",
            "  pdfs = pd.read_html(\n",
            "/usr/local/lib/python3.11/dist-packages/pyspark/pandas/namespace.py:1364: FutureWarning: Passing literal html to 'read_html' is deprecated and will be removed in a future version. To read from a literal string, wrap it in a 'StringIO' object.\n",
            "  pdfs = pd.read_html(\n",
            "/usr/local/lib/python3.11/dist-packages/pyspark/pandas/namespace.py:1364: FutureWarning: Passing literal html to 'read_html' is deprecated and will be removed in a future version. To read from a literal string, wrap it in a 'StringIO' object.\n",
            "  pdfs = pd.read_html(\n",
            "/usr/local/lib/python3.11/dist-packages/pyspark/pandas/namespace.py:1364: FutureWarning: Passing literal html to 'read_html' is deprecated and will be removed in a future version. To read from a literal string, wrap it in a 'StringIO' object.\n",
            "  pdfs = pd.read_html(\n",
            "/usr/local/lib/python3.11/dist-packages/pyspark/pandas/namespace.py:1364: FutureWarning: Passing literal html to 'read_html' is deprecated and will be removed in a future version. To read from a literal string, wrap it in a 'StringIO' object.\n",
            "  pdfs = pd.read_html(\n",
            "/usr/local/lib/python3.11/dist-packages/pyspark/pandas/namespace.py:1364: FutureWarning: Passing literal html to 'read_html' is deprecated and will be removed in a future version. To read from a literal string, wrap it in a 'StringIO' object.\n",
            "  pdfs = pd.read_html(\n",
            "/usr/local/lib/python3.11/dist-packages/pyspark/pandas/namespace.py:1364: FutureWarning: Passing literal html to 'read_html' is deprecated and will be removed in a future version. To read from a literal string, wrap it in a 'StringIO' object.\n",
            "  pdfs = pd.read_html(\n",
            "/usr/local/lib/python3.11/dist-packages/pyspark/pandas/namespace.py:1364: FutureWarning: Passing literal html to 'read_html' is deprecated and will be removed in a future version. To read from a literal string, wrap it in a 'StringIO' object.\n",
            "  pdfs = pd.read_html(\n",
            "/usr/local/lib/python3.11/dist-packages/pyspark/pandas/namespace.py:1364: FutureWarning: Passing literal html to 'read_html' is deprecated and will be removed in a future version. To read from a literal string, wrap it in a 'StringIO' object.\n",
            "  pdfs = pd.read_html(\n",
            "/usr/local/lib/python3.11/dist-packages/pyspark/pandas/namespace.py:1364: FutureWarning: Passing literal html to 'read_html' is deprecated and will be removed in a future version. To read from a literal string, wrap it in a 'StringIO' object.\n",
            "  pdfs = pd.read_html(\n",
            "/usr/local/lib/python3.11/dist-packages/pyspark/pandas/namespace.py:1364: FutureWarning: Passing literal html to 'read_html' is deprecated and will be removed in a future version. To read from a literal string, wrap it in a 'StringIO' object.\n",
            "  pdfs = pd.read_html(\n",
            "/usr/local/lib/python3.11/dist-packages/pyspark/pandas/namespace.py:1364: FutureWarning: Passing literal html to 'read_html' is deprecated and will be removed in a future version. To read from a literal string, wrap it in a 'StringIO' object.\n",
            "  pdfs = pd.read_html(\n",
            "/usr/local/lib/python3.11/dist-packages/pyspark/pandas/namespace.py:1364: FutureWarning: Passing literal html to 'read_html' is deprecated and will be removed in a future version. To read from a literal string, wrap it in a 'StringIO' object.\n",
            "  pdfs = pd.read_html(\n",
            "/usr/local/lib/python3.11/dist-packages/pyspark/pandas/namespace.py:1364: FutureWarning: Passing literal html to 'read_html' is deprecated and will be removed in a future version. To read from a literal string, wrap it in a 'StringIO' object.\n",
            "  pdfs = pd.read_html(\n",
            "/usr/local/lib/python3.11/dist-packages/pyspark/pandas/namespace.py:1364: FutureWarning: Passing literal html to 'read_html' is deprecated and will be removed in a future version. To read from a literal string, wrap it in a 'StringIO' object.\n",
            "  pdfs = pd.read_html(\n",
            "/usr/local/lib/python3.11/dist-packages/pyspark/pandas/namespace.py:1364: FutureWarning: Passing literal html to 'read_html' is deprecated and will be removed in a future version. To read from a literal string, wrap it in a 'StringIO' object.\n",
            "  pdfs = pd.read_html(\n",
            "/usr/local/lib/python3.11/dist-packages/pyspark/pandas/namespace.py:1364: FutureWarning: Passing literal html to 'read_html' is deprecated and will be removed in a future version. To read from a literal string, wrap it in a 'StringIO' object.\n",
            "  pdfs = pd.read_html(\n",
            "/usr/local/lib/python3.11/dist-packages/pyspark/pandas/namespace.py:1364: FutureWarning: Passing literal html to 'read_html' is deprecated and will be removed in a future version. To read from a literal string, wrap it in a 'StringIO' object.\n",
            "  pdfs = pd.read_html(\n",
            "/usr/local/lib/python3.11/dist-packages/pyspark/pandas/namespace.py:1364: FutureWarning: Passing literal html to 'read_html' is deprecated and will be removed in a future version. To read from a literal string, wrap it in a 'StringIO' object.\n",
            "  pdfs = pd.read_html(\n",
            "/usr/local/lib/python3.11/dist-packages/pyspark/pandas/namespace.py:1364: FutureWarning: Passing literal html to 'read_html' is deprecated and will be removed in a future version. To read from a literal string, wrap it in a 'StringIO' object.\n",
            "  pdfs = pd.read_html(\n",
            "/usr/local/lib/python3.11/dist-packages/pyspark/pandas/namespace.py:1364: FutureWarning: Passing literal html to 'read_html' is deprecated and will be removed in a future version. To read from a literal string, wrap it in a 'StringIO' object.\n",
            "  pdfs = pd.read_html(\n",
            "/usr/local/lib/python3.11/dist-packages/pyspark/pandas/namespace.py:1364: FutureWarning: Passing literal html to 'read_html' is deprecated and will be removed in a future version. To read from a literal string, wrap it in a 'StringIO' object.\n",
            "  pdfs = pd.read_html(\n",
            "/usr/local/lib/python3.11/dist-packages/pyspark/pandas/namespace.py:1364: FutureWarning: Passing literal html to 'read_html' is deprecated and will be removed in a future version. To read from a literal string, wrap it in a 'StringIO' object.\n",
            "  pdfs = pd.read_html(\n",
            "/usr/local/lib/python3.11/dist-packages/pyspark/pandas/namespace.py:1364: FutureWarning: Passing literal html to 'read_html' is deprecated and will be removed in a future version. To read from a literal string, wrap it in a 'StringIO' object.\n",
            "  pdfs = pd.read_html(\n",
            "/usr/local/lib/python3.11/dist-packages/pyspark/pandas/namespace.py:1364: FutureWarning: Passing literal html to 'read_html' is deprecated and will be removed in a future version. To read from a literal string, wrap it in a 'StringIO' object.\n",
            "  pdfs = pd.read_html(\n",
            "/usr/local/lib/python3.11/dist-packages/pyspark/pandas/namespace.py:1364: FutureWarning: Passing literal html to 'read_html' is deprecated and will be removed in a future version. To read from a literal string, wrap it in a 'StringIO' object.\n",
            "  pdfs = pd.read_html(\n",
            "/usr/local/lib/python3.11/dist-packages/pyspark/pandas/namespace.py:1364: FutureWarning: Passing literal html to 'read_html' is deprecated and will be removed in a future version. To read from a literal string, wrap it in a 'StringIO' object.\n",
            "  pdfs = pd.read_html(\n",
            "/usr/local/lib/python3.11/dist-packages/pyspark/pandas/namespace.py:1364: FutureWarning: Passing literal html to 'read_html' is deprecated and will be removed in a future version. To read from a literal string, wrap it in a 'StringIO' object.\n",
            "  pdfs = pd.read_html(\n",
            "/usr/local/lib/python3.11/dist-packages/pyspark/pandas/namespace.py:1364: FutureWarning: Passing literal html to 'read_html' is deprecated and will be removed in a future version. To read from a literal string, wrap it in a 'StringIO' object.\n",
            "  pdfs = pd.read_html(\n",
            "/usr/local/lib/python3.11/dist-packages/pyspark/pandas/namespace.py:1364: FutureWarning: Passing literal html to 'read_html' is deprecated and will be removed in a future version. To read from a literal string, wrap it in a 'StringIO' object.\n",
            "  pdfs = pd.read_html(\n",
            "/usr/local/lib/python3.11/dist-packages/pyspark/pandas/namespace.py:1364: FutureWarning: Passing literal html to 'read_html' is deprecated and will be removed in a future version. To read from a literal string, wrap it in a 'StringIO' object.\n",
            "  pdfs = pd.read_html(\n",
            "/usr/local/lib/python3.11/dist-packages/pyspark/pandas/namespace.py:1364: FutureWarning: Passing literal html to 'read_html' is deprecated and will be removed in a future version. To read from a literal string, wrap it in a 'StringIO' object.\n",
            "  pdfs = pd.read_html(\n",
            "/usr/local/lib/python3.11/dist-packages/pyspark/pandas/namespace.py:1364: FutureWarning: Passing literal html to 'read_html' is deprecated and will be removed in a future version. To read from a literal string, wrap it in a 'StringIO' object.\n",
            "  pdfs = pd.read_html(\n",
            "/usr/local/lib/python3.11/dist-packages/pyspark/pandas/namespace.py:1364: FutureWarning: Passing literal html to 'read_html' is deprecated and will be removed in a future version. To read from a literal string, wrap it in a 'StringIO' object.\n",
            "  pdfs = pd.read_html(\n",
            "/usr/local/lib/python3.11/dist-packages/pyspark/pandas/namespace.py:1364: FutureWarning: Passing literal html to 'read_html' is deprecated and will be removed in a future version. To read from a literal string, wrap it in a 'StringIO' object.\n",
            "  pdfs = pd.read_html(\n",
            "/usr/local/lib/python3.11/dist-packages/pyspark/pandas/namespace.py:1364: FutureWarning: Passing literal html to 'read_html' is deprecated and will be removed in a future version. To read from a literal string, wrap it in a 'StringIO' object.\n",
            "  pdfs = pd.read_html(\n",
            "/usr/local/lib/python3.11/dist-packages/pyspark/pandas/namespace.py:1364: FutureWarning: Passing literal html to 'read_html' is deprecated and will be removed in a future version. To read from a literal string, wrap it in a 'StringIO' object.\n",
            "  pdfs = pd.read_html(\n",
            "/usr/local/lib/python3.11/dist-packages/pyspark/pandas/namespace.py:1364: FutureWarning: Passing literal html to 'read_html' is deprecated and will be removed in a future version. To read from a literal string, wrap it in a 'StringIO' object.\n",
            "  pdfs = pd.read_html(\n",
            "/usr/local/lib/python3.11/dist-packages/pyspark/pandas/namespace.py:1364: FutureWarning: Passing literal html to 'read_html' is deprecated and will be removed in a future version. To read from a literal string, wrap it in a 'StringIO' object.\n",
            "  pdfs = pd.read_html(\n",
            "/usr/local/lib/python3.11/dist-packages/pyspark/pandas/namespace.py:1364: FutureWarning: Passing literal html to 'read_html' is deprecated and will be removed in a future version. To read from a literal string, wrap it in a 'StringIO' object.\n",
            "  pdfs = pd.read_html(\n",
            "/usr/local/lib/python3.11/dist-packages/pyspark/pandas/namespace.py:1364: FutureWarning: Passing literal html to 'read_html' is deprecated and will be removed in a future version. To read from a literal string, wrap it in a 'StringIO' object.\n",
            "  pdfs = pd.read_html(\n",
            "/usr/local/lib/python3.11/dist-packages/pyspark/pandas/namespace.py:1364: FutureWarning: Passing literal html to 'read_html' is deprecated and will be removed in a future version. To read from a literal string, wrap it in a 'StringIO' object.\n",
            "  pdfs = pd.read_html(\n",
            "/usr/local/lib/python3.11/dist-packages/pyspark/pandas/namespace.py:1364: FutureWarning: Passing literal html to 'read_html' is deprecated and will be removed in a future version. To read from a literal string, wrap it in a 'StringIO' object.\n",
            "  pdfs = pd.read_html(\n",
            "/usr/local/lib/python3.11/dist-packages/pyspark/pandas/namespace.py:1364: FutureWarning: Passing literal html to 'read_html' is deprecated and will be removed in a future version. To read from a literal string, wrap it in a 'StringIO' object.\n",
            "  pdfs = pd.read_html(\n",
            "/usr/local/lib/python3.11/dist-packages/pyspark/pandas/namespace.py:1364: FutureWarning: Passing literal html to 'read_html' is deprecated and will be removed in a future version. To read from a literal string, wrap it in a 'StringIO' object.\n",
            "  pdfs = pd.read_html(\n",
            "/usr/local/lib/python3.11/dist-packages/pyspark/pandas/utils.py:1016: PandasAPIOnSparkAdviceWarning: If `index_col` is not specified for `to_spark`, the existing index is lost when converting to Spark DataFrame.\n",
            "  warnings.warn(message, PandasAPIOnSparkAdviceWarning)\n"
          ]
        }
      ]
    },
    {
      "cell_type": "code",
      "source": [
        "spark.read.\\\n",
        "  options(delimiter= \",\").\\\n",
        "  format('csv').\\\n",
        "  load(\"/content/drive/MyDrive/NBA_Models/Spark_DB/GSW_2025_box_data\").\\\n",
        "  show()"
      ],
      "metadata": {
        "colab": {
          "base_uri": "https://localhost:8080/"
        },
        "id": "MUeQpVMgGDYs",
        "outputId": "36224725-0596-4319-beba-27f4d47d4324"
      },
      "execution_count": 29,
      "outputs": [
        {
          "output_type": "stream",
          "name": "stdout",
          "text": [
            "+--------------------+-------------+-------------+-------------+-------------+-------------+-------------+-------------+-------------+-------------+-------------+-------------+-------------+-------------+-------------+-------------+-------------+-------------+-------------+-------------+-------------+-------------+----+----+----+\n",
            "|                 _c0|          _c1|          _c2|          _c3|          _c4|          _c5|          _c6|          _c7|          _c8|          _c9|         _c10|         _c11|         _c12|         _c13|         _c14|         _c15|         _c16|         _c17|         _c18|         _c19|         _c20|         _c21|_c22|_c23|_c24|\n",
            "+--------------------+-------------+-------------+-------------+-------------+-------------+-------------+-------------+-------------+-------------+-------------+-------------+-------------+-------------+-------------+-------------+-------------+-------------+-------------+-------------+-------------+-------------+----+----+----+\n",
            "|    Lindy Waters III|        13:35|            1|            3|         .333|            1|            2|         .500|            0|            0|         NULL|            2|            2|            4|            1|            1|            0|            1|            2|            3|          3.2|          -13|  31|   0| PHO|\n",
            "|  Brandin Podziemski|        11:22|            0|            1|         .000|            0|            0|         NULL|            0|            0|         NULL|            1|            1|            2|            0|            0|            0|            0|            2|            0|         -0.5|          -17|  31|   0| PHO|\n",
            "|       Kyle Anderson| Did Not Play| Did Not Play| Did Not Play| Did Not Play| Did Not Play| Did Not Play| Did Not Play| Did Not Play| Did Not Play| Did Not Play| Did Not Play| Did Not Play| Did Not Play| Did Not Play| Did Not Play| Did Not Play| Did Not Play| Did Not Play| Did Not Play| Did Not Play| Did Not Play|  31|   0| PHO|\n",
            "|        Kevon Looney| Did Not Play| Did Not Play| Did Not Play| Did Not Play| Did Not Play| Did Not Play| Did Not Play| Did Not Play| Did Not Play| Did Not Play| Did Not Play| Did Not Play| Did Not Play| Did Not Play| Did Not Play| Did Not Play| Did Not Play| Did Not Play| Did Not Play| Did Not Play| Did Not Play|  31|   0| PHO|\n",
            "|         Moses Moody| Did Not Play| Did Not Play| Did Not Play| Did Not Play| Did Not Play| Did Not Play| Did Not Play| Did Not Play| Did Not Play| Did Not Play| Did Not Play| Did Not Play| Did Not Play| Did Not Play| Did Not Play| Did Not Play| Did Not Play| Did Not Play| Did Not Play| Did Not Play| Did Not Play|  31|   0| PHO|\n",
            "|      Gary Payton II|Did Not Dress|Did Not Dress|Did Not Dress|Did Not Dress|Did Not Dress|Did Not Dress|Did Not Dress|Did Not Dress|Did Not Dress|Did Not Dress|Did Not Dress|Did Not Dress|Did Not Dress|Did Not Dress|Did Not Dress|Did Not Dress|Did Not Dress|Did Not Dress|Did Not Dress|Did Not Dress|Did Not Dress|  31|   0| PHO|\n",
            "|          Gui Santos| Did Not Play| Did Not Play| Did Not Play| Did Not Play| Did Not Play| Did Not Play| Did Not Play| Did Not Play| Did Not Play| Did Not Play| Did Not Play| Did Not Play| Did Not Play| Did Not Play| Did Not Play| Did Not Play| Did Not Play| Did Not Play| Did Not Play| Did Not Play| Did Not Play|  31|   0| PHO|\n",
            "|         Pat Spencer| Did Not Play| Did Not Play| Did Not Play| Did Not Play| Did Not Play| Did Not Play| Did Not Play| Did Not Play| Did Not Play| Did Not Play| Did Not Play| Did Not Play| Did Not Play| Did Not Play| Did Not Play| Did Not Play| Did Not Play| Did Not Play| Did Not Play| Did Not Play| Did Not Play|  31|   0| PHO|\n",
            "|         Team Totals|          240|           41|           98|         .418|           12|           45|         .267|           15|           19|         .789|           18|           31|           49|           26|            8|            7|           12|           17|          109|         NULL|         NULL|  31|   0| PHO|\n",
            "|        Jackson Rowe|        13:45|            2|            3|         .667|            2|            3|         .667|            0|            2|         .000|            0|            5|            5|            0|            1|            0|            0|            2|            6|          5.6|          +17|  50|   0| UTA|\n",
            "|      Gary Payton II|        13:35|            4|            6|         .667|            1|            1|        1.000|            0|            0|         NULL|            0|            1|            1|            1|            0|            1|            0|            6|            9|          5.7|           +4|  50|   0| UTA|\n",
            "|          Gui Santos|        10:30|            1|            1|        1.000|            1|            1|        1.000|            1|            2|         .500|            0|            0|            0|            0|            0|            0|            0|            0|            4|          3.3|          +11|  50|   0| UTA|\n",
            "|       Kyle Anderson| Did Not Play| Did Not Play| Did Not Play| Did Not Play| Did Not Play| Did Not Play| Did Not Play| Did Not Play| Did Not Play| Did Not Play| Did Not Play| Did Not Play| Did Not Play| Did Not Play| Did Not Play| Did Not Play| Did Not Play| Did Not Play| Did Not Play| Did Not Play| Did Not Play|  50|   0| UTA|\n",
            "|Trayce Jackson-Davis| Did Not Play| Did Not Play| Did Not Play| Did Not Play| Did Not Play| Did Not Play| Did Not Play| Did Not Play| Did Not Play| Did Not Play| Did Not Play| Did Not Play| Did Not Play| Did Not Play| Did Not Play| Did Not Play| Did Not Play| Did Not Play| Did Not Play| Did Not Play| Did Not Play|  50|   0| UTA|\n",
            "|     Dennis Schröder| Did Not Play| Did Not Play| Did Not Play| Did Not Play| Did Not Play| Did Not Play| Did Not Play| Did Not Play| Did Not Play| Did Not Play| Did Not Play| Did Not Play| Did Not Play| Did Not Play| Did Not Play| Did Not Play| Did Not Play| Did Not Play| Did Not Play| Did Not Play| Did Not Play|  50|   0| UTA|\n",
            "|    Lindy Waters III| Did Not Play| Did Not Play| Did Not Play| Did Not Play| Did Not Play| Did Not Play| Did Not Play| Did Not Play| Did Not Play| Did Not Play| Did Not Play| Did Not Play| Did Not Play| Did Not Play| Did Not Play| Did Not Play| Did Not Play| Did Not Play| Did Not Play| Did Not Play| Did Not Play|  50|   0| UTA|\n",
            "|      Andrew Wiggins| Did Not Play| Did Not Play| Did Not Play| Did Not Play| Did Not Play| Did Not Play| Did Not Play| Did Not Play| Did Not Play| Did Not Play| Did Not Play| Did Not Play| Did Not Play| Did Not Play| Did Not Play| Did Not Play| Did Not Play| Did Not Play| Did Not Play| Did Not Play| Did Not Play|  50|   0| UTA|\n",
            "|         Team Totals|          240|           46|          100|         .460|           17|           48|         .354|           19|           27|         .704|           12|           29|           41|           33|            6|            4|            9|           24|          128|         NULL|         NULL|  50|   0| UTA|\n",
            "|         Buddy Hield|        17:27|            2|            6|         .333|            1|            5|         .200|            0|            0|         NULL|            0|            0|            0|            0|            0|            1|            1|            2|            5|          0.5|           -4|  29|   1| LAL|\n",
            "|      Gary Payton II|         6:32|            2|            2|        1.000|            0|            0|         NULL|            0|            0|         NULL|            0|            1|            1|            0|            0|            0|            0|            1|            4|          3.3|           -4|  29|   1| LAL|\n",
            "+--------------------+-------------+-------------+-------------+-------------+-------------+-------------+-------------+-------------+-------------+-------------+-------------+-------------+-------------+-------------+-------------+-------------+-------------+-------------+-------------+-------------+-------------+----+----+----+\n",
            "only showing top 20 rows\n",
            "\n"
          ]
        }
      ]
    },
    {
      "cell_type": "code",
      "source": [
        "table_path = f'/content/drive/MyDrive/NBA_Models/Spark_DB/GSW_2025_schedule_data.html'\n",
        "\n",
        "spark.read.\\\n",
        "  options(delimiter= \"|\").\\\n",
        "  format('text').\\\n",
        "  load(table_path).\\\n",
        "  createOrReplaceTempView('GSW_2025_schedule_html')\n",
        "\n",
        "spark.sql(\"\"\"\n",
        "SELECT * FROM GSW_2025_schedule_html LIMIT 3\n",
        "\"\"\").show(truncate=False)"
      ],
      "metadata": {
        "id": "RDz424-40dd3",
        "colab": {
          "base_uri": "https://localhost:8080/"
        },
        "outputId": "ef900516-c4b2-4dcb-8ded-13bc86a5416f"
      },
      "execution_count": 31,
      "outputs": [
        {
          "output_type": "stream",
          "name": "stdout",
          "text": [
            "+---------------------------------------------------------------------------------------------------------------------------+\n",
            "|value                                                                                                                      |\n",
            "+---------------------------------------------------------------------------------------------------------------------------+\n",
            "|<table class=\"sortable stats_table\" data-cols-to-freeze=\",2\" id=\"games\">                                                   |\n",
            "|<caption>Regular Season Table</caption>                                                                                    |\n",
            "|<colgroup><col/><col/><col/><col/><col/><col/><col/><col/><col/><col/><col/><col/><col/><col/><col/><col/><col/></colgroup>|\n",
            "+---------------------------------------------------------------------------------------------------------------------------+\n",
            "\n"
          ]
        }
      ]
    },
    {
      "cell_type": "markdown",
      "source": [
        "Now we need to extract the score results by game from the html table"
      ],
      "metadata": {
        "id": "TYNDy1NeXF7S"
      }
    },
    {
      "cell_type": "code",
      "source": [
        "spark.sql(\"\"\"\n",
        "WITH game_rows (row) AS (\n",
        "    SELECT explode(split(value, '</tr>')) AS row\n",
        "    FROM gsw_2025_schedule_html\n",
        "),\n",
        "\n",
        "extracted_data (row, pos, cell) AS (\n",
        "    SELECT\n",
        "        posexplode(split(row, '</td>')) AS (pos, cell),\n",
        "        row\n",
        "    FROM game_rows\n",
        ")\n",
        "\n",
        "SELECT * from extracted_data\n",
        "\"\"\").show(truncate=False)\n"
      ],
      "metadata": {
        "colab": {
          "base_uri": "https://localhost:8080/"
        },
        "id": "nIkN8vSZOlOY",
        "outputId": "7cdf836a-d22b-43c2-d935-9c7754ccca5f"
      },
      "execution_count": 32,
      "outputs": [
        {
          "output_type": "stream",
          "name": "stdout",
          "text": [
            "+---+-----------------------------------------------------------------------------------------------------------------------------------+-----------------------------------------------------------------------------------------------------------------------------------+\n",
            "|row|pos                                                                                                                                |cell                                                                                                                               |\n",
            "+---+-----------------------------------------------------------------------------------------------------------------------------------+-----------------------------------------------------------------------------------------------------------------------------------+\n",
            "|0  |<table class=\"sortable stats_table\" data-cols-to-freeze=\",2\" id=\"games\">                                                           |<table class=\"sortable stats_table\" data-cols-to-freeze=\",2\" id=\"games\">                                                           |\n",
            "|0  |<caption>Regular Season Table</caption>                                                                                            |<caption>Regular Season Table</caption>                                                                                            |\n",
            "|0  |<colgroup><col/><col/><col/><col/><col/><col/><col/><col/><col/><col/><col/><col/><col/><col/><col/><col/><col/></colgroup>        |<colgroup><col/><col/><col/><col/><col/><col/><col/><col/><col/><col/><col/><col/><col/><col/><col/><col/><col/></colgroup>        |\n",
            "|0  |<thead>                                                                                                                            |<thead>                                                                                                                            |\n",
            "|0  |<tr>                                                                                                                               |<tr>                                                                                                                               |\n",
            "|0  |<th aria-label=\"Games\" class=\"poptip right\" data-stat=\"g\" data-tip=\"Games\" scope=\"col\">G</th>                                      |<th aria-label=\"Games\" class=\"poptip right\" data-stat=\"g\" data-tip=\"Games\" scope=\"col\">G</th>                                      |\n",
            "|0  |<th aria-label=\"Date\" class=\"poptip sort_default_asc left\" data-stat=\"date_game\" scope=\"col\">Date</th>                             |<th aria-label=\"Date\" class=\"poptip sort_default_asc left\" data-stat=\"date_game\" scope=\"col\">Date</th>                             |\n",
            "|0  |<th aria-label=\"Start (ET)\" class=\"poptip center\" data-stat=\"game_start_time\" data-tip=\"Time zone = ET\" scope=\"col\">Start (ET)</th>|<th aria-label=\"Start (ET)\" class=\"poptip center\" data-stat=\"game_start_time\" data-tip=\"Time zone = ET\" scope=\"col\">Start (ET)</th>|\n",
            "|0  |<th aria-label=\" \" class=\"poptip center\" data-stat=\"network\" scope=\"col\"> </th>                                                    |<th aria-label=\" \" class=\"poptip center\" data-stat=\"network\" scope=\"col\"> </th>                                                    |\n",
            "|0  |<th aria-label=\" \" class=\"poptip sort_default_asc center\" data-stat=\"box_score_text\" scope=\"col\"> </th>                            |<th aria-label=\" \" class=\"poptip sort_default_asc center\" data-stat=\"box_score_text\" scope=\"col\"> </th>                            |\n",
            "|0  |<th aria-label=\" \" class=\"poptip center\" data-stat=\"game_location\" scope=\"col\"> </th>                                              |<th aria-label=\" \" class=\"poptip center\" data-stat=\"game_location\" scope=\"col\"> </th>                                              |\n",
            "|0  |<th aria-label=\"Opponent\" class=\"poptip sort_default_asc left\" data-stat=\"opp_name\" scope=\"col\">Opponent</th>                      |<th aria-label=\"Opponent\" class=\"poptip sort_default_asc left\" data-stat=\"opp_name\" scope=\"col\">Opponent</th>                      |\n",
            "|0  |<th aria-label=\" \" class=\"poptip center\" data-stat=\"game_result\" scope=\"col\"> </th>                                                |<th aria-label=\" \" class=\"poptip center\" data-stat=\"game_result\" scope=\"col\"> </th>                                                |\n",
            "|0  |<th aria-label=\" \" class=\"poptip center\" data-stat=\"overtimes\" scope=\"col\"> </th>                                                  |<th aria-label=\" \" class=\"poptip center\" data-stat=\"overtimes\" scope=\"col\"> </th>                                                  |\n",
            "|0  |<th aria-label=\"Points\" class=\"poptip right\" data-stat=\"pts\" data-tip=\"Points\" scope=\"col\">Tm</th>                                 |<th aria-label=\"Points\" class=\"poptip right\" data-stat=\"pts\" data-tip=\"Points\" scope=\"col\">Tm</th>                                 |\n",
            "|0  |<th aria-label=\"Opponent Points\" class=\"poptip right\" data-stat=\"opp_pts\" data-tip=\"Opponent Points\" scope=\"col\">Opp</th>          |<th aria-label=\"Opponent Points\" class=\"poptip right\" data-stat=\"opp_pts\" data-tip=\"Opponent Points\" scope=\"col\">Opp</th>          |\n",
            "|0  |<th aria-label=\"Wins\" class=\"poptip right\" data-stat=\"wins\" data-tip=\"Wins\" scope=\"col\">W</th>                                     |<th aria-label=\"Wins\" class=\"poptip right\" data-stat=\"wins\" data-tip=\"Wins\" scope=\"col\">W</th>                                     |\n",
            "|0  |<th aria-label=\"Losses\" class=\"poptip right\" data-stat=\"losses\" data-tip=\"Losses\" scope=\"col\">L</th>                               |<th aria-label=\"Losses\" class=\"poptip right\" data-stat=\"losses\" data-tip=\"Losses\" scope=\"col\">L</th>                               |\n",
            "|0  |<th aria-label=\"Streak\" class=\"poptip left\" data-stat=\"game_streak\" scope=\"col\">Streak</th>                                        |<th aria-label=\"Streak\" class=\"poptip left\" data-stat=\"game_streak\" scope=\"col\">Streak</th>                                        |\n",
            "|0  |<th aria-label=\"Attend.\" class=\"poptip right\" data-stat=\"attendance\" data-tip=\"Attendance\" scope=\"col\">Attend.</th>                |<th aria-label=\"Attend.\" class=\"poptip right\" data-stat=\"attendance\" data-tip=\"Attendance\" scope=\"col\">Attend.</th>                |\n",
            "+---+-----------------------------------------------------------------------------------------------------------------------------------+-----------------------------------------------------------------------------------------------------------------------------------+\n",
            "only showing top 20 rows\n",
            "\n"
          ]
        }
      ]
    },
    {
      "cell_type": "markdown",
      "source": [
        "Should be easy, it just requires a simple regexpr function\n",
        "For example, to extract the points scored we just copy and paste everything from  ```data-stat``` to ```</td>``` and look for the number that's in between.\n",
        "\n",
        "It'll return as a string so we will apply an integer cast transformation\n",
        "\n",
        "![regexpr example.PNG](data:image/png;base64,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)"
      ],
      "metadata": {
        "id": "EA-RDWGJXOOK"
      }
    },
    {
      "cell_type": "code",
      "source": [
        "def create_schedule_table(team_id, year):\n",
        "    \"\"\"\n",
        "    Takes the HTML data to find the score results for all games played and\n",
        "    writes out results to a spark CSV table\n",
        "\n",
        "    Args:\n",
        "        team_id (str): The team abbreviation.\n",
        "        year (str): The season year.\n",
        "      \"\"\"\n",
        "\n",
        "    spark.sql(f\"\"\"\n",
        "      WITH game_rows (row) AS (\n",
        "          SELECT explode(split(value, '</tr>')) AS row\n",
        "          FROM {team_id}_{year}_schedule_html\n",
        "      ),\n",
        "\n",
        "      extracted_data (row, pos, cell) AS (\n",
        "          SELECT\n",
        "              posexplode(split(row, '</td>')) AS (pos, cell),\n",
        "              row\n",
        "          FROM game_rows\n",
        "      ),\n",
        "      relevant_cells (row, points_for, points_against) AS (\n",
        "      SELECT\n",
        "      CAST(regexp_extract(cell, 'scope=\"row\">([0-9]+)</th>') AS INT) AS game,\n",
        "      CAST(regexp_extract(cell, 'data-stat=\\\"opp_pts\\\">([0-9]+)</td>') AS INT) AS points_for,\n",
        "      CAST(regexp_extract(cell, 'data-stat=\\\"pts\\\">([0-9]+)</td>') AS INT) AS points_against\n",
        "      FROM extracted_data)\n",
        "\n",
        "      SELECT distinct(*) FROM relevant_cells\n",
        "      WHERE row IS NOT NULL\n",
        "      ORDER BY row ASC\n",
        "      \"\"\").\\\n",
        "      write.format('csv').mode('overwrite').\\\n",
        "      option('headers', 'true').option('delimiter', ',').\\\n",
        "      save(f'/content/drive/MyDrive/NBA_Models/Spark_DB/{team_id}_{year}_schedule_data')\n",
        "      #saveAsTable(f'/content/drive/MyDrive/NBA_Models/Spark_DB.{team_id}_{year}_schedule_data') ## Use this for databricks\n",
        "\n",
        "create_schedule_table('GSW', 2025)\n",
        "### Display table for Golden State Warriors 2025\n",
        "read_schema=StructType([\n",
        "  StructField(\"game\", ShortType(), True),\n",
        "  StructField(\"points_for\", ShortType(), True),\n",
        "  StructField(\"points_against\", ShortType(), True)\n",
        "  ])\n",
        "\n",
        "spark.read.format('csv').\\\n",
        "csv('/content/drive/MyDrive/NBA_Models/Spark_DB/GSW_2025_schedule_data', schema=read_schema).\\\n",
        "show(50)"
      ],
      "metadata": {
        "colab": {
          "base_uri": "https://localhost:8080/"
        },
        "id": "Xaf3g257CXw6",
        "outputId": "059b9031-dece-4e2e-c950-c4b35a1394f6"
      },
      "execution_count": 33,
      "outputs": [
        {
          "output_type": "stream",
          "name": "stdout",
          "text": [
            "+----+----------+--------------+\n",
            "|game|points_for|points_against|\n",
            "+----+----------+--------------+\n",
            "|   1|       104|           140|\n",
            "|   2|        86|           127|\n",
            "|   3|       112|           104|\n",
            "|   4|       106|           124|\n",
            "|   5|        89|           104|\n",
            "|   6|       121|           127|\n",
            "|   7|       112|           125|\n",
            "|   8|       112|           118|\n",
            "|   9|       136|           117|\n",
            "|  10|       116|           127|\n",
            "|  11|       117|           120|\n",
            "|  12|       118|           123|\n",
            "|  13|       102|            99|\n",
            "|  14|        97|           120|\n",
            "|  15|       108|           112|\n",
            "|  16|       104|            94|\n",
            "|  17|       128|           120|\n",
            "|  18|       105|           101|\n",
            "|  19|       113|           105|\n",
            "|  20|       119|           115|\n",
            "|  21|        93|            99|\n",
            "|  22|       107|            90|\n",
            "|  23|       106|           114|\n",
            "|  24|        91|            90|\n",
            "|  25|       143|           133|\n",
            "|  26|       144|            93|\n",
            "|  27|       103|           113|\n",
            "|  28|       111|           105|\n",
            "|  29|       115|           113|\n",
            "|  30|       102|            92|\n",
            "|  31|       105|           109|\n",
            "|  32|       113|            95|\n",
            "|  33|       105|           139|\n",
            "|  34|       113|           121|\n",
            "|  35|       129|            99|\n",
            "|  36|       114|            98|\n",
            "|  37|       104|           107|\n",
            "|  38|       108|            96|\n",
            "|  39|       104|           101|\n",
            "|  40|       115|           116|\n",
            "|  41|       114|           122|\n",
            "|  42|       125|            85|\n",
            "|  43|       123|           117|\n",
            "|  44|       106|           131|\n",
            "|  45|       118|           108|\n",
            "|  46|       103|           114|\n",
            "|  47|       109|           116|\n",
            "|  48|       130|           105|\n",
            "|  49|        99|           104|\n",
            "|  50|       131|           128|\n",
            "+----+----------+--------------+\n",
            "only showing top 50 rows\n",
            "\n"
          ]
        }
      ]
    }
  ],
  "metadata": {
    "kernelspec": {
      "display_name": "Python 3",
      "language": "python",
      "name": "python3"
    },
    "language_info": {
      "codemirror_mode": {
        "name": "ipython",
        "version": 3
      },
      "file_extension": ".py",
      "mimetype": "text/x-python",
      "name": "python",
      "nbconvert_exporter": "python",
      "pygments_lexer": "ipython3",
      "version": "3.9.13"
    },
    "orig_nbformat": 4,
    "colab": {
      "provenance": []
    }
  },
  "nbformat": 4,
  "nbformat_minor": 0
}